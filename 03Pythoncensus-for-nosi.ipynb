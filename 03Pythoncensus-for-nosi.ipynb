{
 "cells": [
  {
   "cell_type": "code",
   "execution_count": 1,
   "id": "48423ba4-29ec-4164-a5f2-5d276318816f",
   "metadata": {},
   "outputs": [],
   "source": [
    "import pandas as pd\n",
    "import numpy as np\n",
    "import requests, csv\n",
    "import seaborn as sns\n",
    "import matplotlib.pyplot as plt\n",
    "%matplotlib inline"
   ]
  },
  {
   "cell_type": "markdown",
   "id": "4a23c19d",
   "metadata": {},
   "source": [
    "## Block group level"
   ]
  },
  {
   "cell_type": "code",
   "execution_count": 3,
   "id": "5adfdc0d",
   "metadata": {},
   "outputs": [],
   "source": [
    "#first grab 2021 census data at block group level for CV counties\n",
    "#set variables\n",
    "year = 2021\n",
    "dsource = 'acs'\n",
    "dname = 'acs5'\n",
    "#cols = 'NAME,B15003_001E'\n",
    "cols = 'B01003_001E,B06012_001E,B06012_002E,B19013_001E,B25064_001E,B23025_001E,B23025_002E,B23025_005E,B23025_007E,B23018_001E,B19301_001E,B15003_001E,B15003_017E,B15003_018E,B15003_019E,B15003_020E,B15003_021E,B15003_022E,B15003_023E,B15003_024E,B15003_025E,B17011_001E,B19051_001E,B19051_002E,B19051_003E,B19055_002E,B19055_003E,B19056_001E,B19056_002E,B19057_002E,B19058_002E,B19083_001E,B19113_001E,B01003_001E,B02001_001E,B02001_002E,B02001_003E,B02001_004E,B02001_005E,B02001_006E,B02001_007E,B02001_008E,B19123_002E,B19123_003E'\n",
    "state = '06'\n",
    "county = '099,077,047'\n",
    "block_group = '*'\n",
    "#list of geographies: https://api.census.gov/data/2022/acs/acs5/geography.html\n",
    "dcode = '2,12'\n",
    "keyfile = 'apikey.txt'\n",
    "outfile = 'nosipopcv2021.txt'\n",
    "\n",
    "base_url = f'https://api.census.gov/data/{year}/{dsource}/{dname}'\n",
    "\n",
    "with open(keyfile) as key:\n",
    "    api_key = key.read().strip()\n",
    "\n",
    "data_url = f'{base_url}?get={cols}&for=block%20group:{block_group}&in=state:{state}&in=county:{county}&in=tract:*&key={api_key}'\n",
    "response = requests.get(data_url)\n",
    "popdata = response.json()\n",
    "#for record in popdata:\n",
    "#    print(record)\n",
    "\n",
    "with open(outfile, 'w', newline='') as writefile:\n",
    "    writer = csv.writer(writefile, quoting = csv.QUOTE_ALL, delimiter = ',')\n",
    "    writer.writerows(popdata)\n",
    "\n",
    "#readin\n",
    "tempdf=pd.read_csv('nosipopcv2021.txt', converters={'state': str,'county': str, 'tract': str, 'block_group': str})\n"
   ]
  },
  {
   "cell_type": "code",
   "execution_count": 4,
   "id": "35bee2ba",
   "metadata": {},
   "outputs": [],
   "source": [
    "#grab missing block_group columns at the tract level\n",
    "year = 2021\n",
    "dsource = 'acs'\n",
    "dname = 'acs5'\n",
    "#cols = 'NAME,B15003_001E''\n",
    "cols = 'B06012_001E,B06012_002E,B23018_001E,B19083_001E'\n",
    "county = '099,077,047'\n",
    "tract = '*'\n",
    "#list of geographies: https://api.census.gov/data/2022/acs/acs5/geography.html\n",
    "dcode = '2,12'\n",
    "keyfile = 'apikey.txt'\n",
    "outfile = 'nosimissing-tract2021.txt'\n",
    "\n",
    "base_url = f'https://api.census.gov/data/{year}/{dsource}/{dname}'\n",
    "data_url = f'{base_url}?get={cols}&for=tract:{tract}&in=state:{state}&in=county:{county}&in=tract:*&key={api_key}'\n",
    "response = requests.get(data_url)\n",
    "popdata = response.json()\n",
    "#for record in popdata:\n",
    "#    print(record)\n",
    "\n",
    "with open(outfile, 'w', newline='') as writefile:\n",
    "    writer = csv.writer(writefile, quoting = csv.QUOTE_ALL, delimiter = ',')\n",
    "    writer.writerows(popdata)\n",
    "\n",
    "    \n",
    "#read in missing columns    \n",
    "missing=pd.read_csv('nosimissing-tract2021.txt', converters={'state': str,'county': str, 'tract': str})\n",
    "\n"
   ]
  },
  {
   "cell_type": "code",
   "execution_count": 5,
   "id": "65511d0d",
   "metadata": {},
   "outputs": [
    {
     "data": {
      "text/plain": [
       "Index(['B06012_001E', 'B06012_002E', 'B23018_001E', 'B19083_001E', 'state',\n",
       "       'county', 'tract'],\n",
       "      dtype='object')"
      ]
     },
     "execution_count": 5,
     "metadata": {},
     "output_type": "execute_result"
    }
   ],
   "source": [
    "missing.columns"
   ]
  },
  {
   "cell_type": "code",
   "execution_count": 6,
   "id": "294be2cd",
   "metadata": {},
   "outputs": [],
   "source": [
    "#combine 2021 datasets\n",
    "#make unique geoid for each line in both datasets\n",
    "tempdf['temp'] = tempdf['state'].astype(str) + tempdf['county'].astype(str) + tempdf['tract'].astype(str)\n",
    "\n",
    "missing['temp'] = missing['state'].astype(str) + missing['county'].astype(str) + missing['tract'].astype(str)\n",
    "missing.drop(['state', 'county', 'tract'], axis = 1, inplace = True)\n",
    "\n",
    "#replace NAs with tract level data\n",
    "df21 = tempdf.merge(missing, how = 'left', on = 'temp')\n",
    "df21.drop(['temp', 'B06012_001E_x', 'B06012_002E_x', 'B23018_001E_x', 'B19083_001E_x'], axis = 1, inplace = True)\n",
    "\n",
    "#rename columns\n",
    "colnames = ['Population','Median_household_income','Median_gross_rent','Total__Population_16_and_over','Total_In_labor_force','Total_In_labor_force_Civilian_labor_force_Unemployed','Total_Not_in_labor_force','Per_capita_income_in_the_past_12_months_(in_2021_inflation-adjusted_dollars)','Total__Population_25_and_over','Total_Regular_high_school_diploma','Total_GED_or_alternative_credential','Total_Some_college_less_than_1_year','Total_Some_college_1_or_more_years_no_degree','Associates','Bachelors','Masters','Professional','Doctorate','Aggregate_income_deficit_in_the_past_12_months','Total__Households','Total_With_earnings','Total_No_earnings','Total_With_Social_Security_income','Total_No_Social_Security_income','Total__Households','Total_With_Supplemental_Security_Income_(SSI)','Total_With_public_assistance_income','Total_With_cash_public_assistance_or_Food_Stamps/SNAP','Median_family_income_in_the_past_12_months_(in_2021_inflation-adjusted_dollars)','Total_Population','Total__Race','Total_White_alone','Total_Black_or_African_American_alone','Total_American_Indian_and_Alaska_Native_alone','Total_Asian_alone','Total_Native_Hawaiian_and_Other_Pacific_Islander_alone','Total_Some_other_race_alone','Total_Two_or_more_races','Total_With_cash_public_assistance_income_or_households_receiving_Food_Stamps/SNAP_benefits_in_the_past_12_months','Total_No_cash_public_assistance_income_or_household_Food_Stamps/SNAP_benefits_in_the_past_12_months','state', 'county','tract', 'blockgroup','TotalPopforPoverty', 'PopinPoverty','Working_hours','Gini_index']\n",
    "df21.columns = colnames"
   ]
  },
  {
   "cell_type": "code",
   "execution_count": 7,
   "id": "6cf5fbd0",
   "metadata": {},
   "outputs": [],
   "source": [
    "#some tracts are missing from 2021 data, try 2022 dataset\n",
    "year = 2022\n",
    "dsource = 'acs'\n",
    "dname = 'acs5'\n",
    "#cols = 'NAME,B15003_001E'\n",
    "cols = 'B01003_001E,B06012_001E,B06012_002E,B19013_001E,B25064_001E,B23025_001E,B23025_002E,B23025_005E,B23025_007E,B23018_001E,B19301_001E,B15003_001E,B15003_017E,B15003_018E,B15003_019E,B15003_020E,B15003_021E,B15003_022E,B15003_023E,B15003_024E,B15003_025E,B17011_001E,B19051_001E,B19051_002E,B19051_003E,B19055_002E,B19055_003E,B19056_001E,B19056_002E,B19057_002E,B19058_002E,B19083_001E,B19113_001E,B01003_001E,B02001_001E,B02001_002E,B02001_003E,B02001_004E,B02001_005E,B02001_006E,B02001_007E,B02001_008E,B19123_002E,B19123_003E'\n",
    "state = '06'\n",
    "county = '099,077,047'\n",
    "tract = '*'\n",
    "block_group = '*'\n",
    "#list of geographies: https://api.census.gov/data/2022/acs/acs5/geography.html\n",
    "dcode = '2,12'\n",
    "keyfile = 'apikey.txt'\n",
    "outfile = 'nosipopcv2022.txt'\n",
    "\n",
    "base_url = f'https://api.census.gov/data/{year}/{dsource}/{dname}'\n",
    "\n",
    "with open(keyfile) as key:\n",
    "    api_key = key.read().strip()\n",
    "\n",
    "data_url = f'{base_url}?get={cols}&for=block%20group:{block_group}&in=state:{state}&in=county:{county}&in=tract:{tract}&key={api_key}'\n",
    "response = requests.get(data_url)\n",
    "popdata = response.json()\n",
    "#for record in popdata:\n",
    "#    print(record)\n",
    "\n",
    "with open(outfile, 'w', newline='') as writefile:\n",
    "    writer = csv.writer(writefile, quoting = csv.QUOTE_ALL, delimiter = ',')\n",
    "    writer.writerows(popdata)\n",
    "#readin\n",
    "tempdf=pd.read_csv('nosipopcv2022.txt', converters={'state': str,'county': str, 'tract': str, 'block_group': str})"
   ]
  },
  {
   "cell_type": "code",
   "execution_count": 13,
   "id": "220ded1a",
   "metadata": {
    "scrolled": false
   },
   "outputs": [],
   "source": [
    "#grab unavailable columns for census tract level\n",
    "year = 2022\n",
    "dsource = 'acs'\n",
    "dname = 'acs5'\n",
    "#cols = 'NAME,B15003_001E''\n",
    "cols = 'B06012_001E,B06012_002E,B23018_001E,B19083_001E'\n",
    "county = '099,077,047'\n",
    "tract = '*'\n",
    "#list of geographies: https://api.census.gov/data/2022/acs/acs5/geography.html\n",
    "dcode = '2,12'\n",
    "keyfile = 'apikey.txt'\n",
    "outfile = 'nosimissing-tract2022.txt'\n",
    "\n",
    "base_url = f'https://api.census.gov/data/{year}/{dsource}/{dname}'\n",
    "data_url = f'{base_url}?get={cols}&for=tract:{tract}&in=state:{state}&in=county:{county}&in=tract:*&key={api_key}'\n",
    "response = requests.get(data_url)\n",
    "popdata = response.json()\n",
    "#for record in popdata:\n",
    "#    print(record)\n",
    "\n",
    "with open(outfile, 'w', newline='') as writefile:\n",
    "    writer = csv.writer(writefile, quoting = csv.QUOTE_ALL, delimiter = ',')\n",
    "    writer.writerows(popdata)\n",
    "#read in missing columns    \n",
    "missing=pd.read_csv('nosimissing-tract2022.txt', converters={'state': str,'county': str, 'tract': str})"
   ]
  },
  {
   "cell_type": "code",
   "execution_count": 14,
   "id": "e6f17ab0",
   "metadata": {},
   "outputs": [],
   "source": [
    "#combine 2022 datasets\n",
    "#make unique geoid for each line in both datasets\n",
    "tempdf['temp'] = tempdf['state'].astype(str) + tempdf['county'].astype(str) + tempdf['tract'].astype(str)\n",
    "\n",
    "missing['temp'] = missing['state'].astype(str) + missing['county'].astype(str) + missing['tract'].astype(str)\n",
    "missing.drop(['state', 'county', 'tract'], axis = 1, inplace = True)\n",
    "\n",
    "#replace NAs with tract level data\n",
    "df22 = tempdf.merge(missing, how = 'left', on = 'temp')\n",
    "df22.drop(['temp', 'B06012_001E_x', 'B06012_002E_x', 'B23018_001E_x', 'B19083_001E_x'], axis = 1, inplace = True)\n",
    "\n",
    "#rename columns\n",
    "colnames = ['Population','Median_household_income','Median_gross_rent','Total__Population_16_and_over','Total_In_labor_force','Total_In_labor_force_Civilian_labor_force_Unemployed','Total_Not_in_labor_force','Per_capita_income_in_the_past_12_months_(in_2021_inflation-adjusted_dollars)','Total__Population_25_and_over','Total_Regular_high_school_diploma','Total_GED_or_alternative_credential','Total_Some_college_less_than_1_year','Total_Some_college_1_or_more_years_no_degree','Associates','Bachelors','Masters','Professional','Doctorate','Aggregate_income_deficit_in_the_past_12_months','Total__Households','Total_With_earnings','Total_No_earnings','Total_With_Social_Security_income','Total_No_Social_Security_income','Total__Households','Total_With_Supplemental_Security_Income_(SSI)','Total_With_public_assistance_income','Total_With_cash_public_assistance_or_Food_Stamps/SNAP','Median_family_income_in_the_past_12_months_(in_2021_inflation-adjusted_dollars)','Total_Population','Total__Race','Total_White_alone','Total_Black_or_African_American_alone','Total_American_Indian_and_Alaska_Native_alone','Total_Asian_alone','Total_Native_Hawaiian_and_Other_Pacific_Islander_alone','Total_Some_other_race_alone','Total_Two_or_more_races','Total_With_cash_public_assistance_income_or_households_receiving_Food_Stamps/SNAP_benefits_in_the_past_12_months','Total_No_cash_public_assistance_income_or_household_Food_Stamps/SNAP_benefits_in_the_past_12_months','state', 'county','tract', 'blockgroup','TotalPopforPoverty', 'PopinPoverty','Working_hours','Gini_index']\n",
    "df22.columns = colnames"
   ]
  },
  {
   "cell_type": "code",
   "execution_count": 15,
   "id": "2235ccb6",
   "metadata": {},
   "outputs": [],
   "source": [
    "df22['GEOID']= df22['state'].astype(str) + df22['county'].astype(str) + df22['tract'].astype(str) + df22['blockgroup'].astype(str)\n",
    "df21['GEOID']= df21['state'].astype(str) + df21['county'].astype(str) + df21['tract'].astype(str) + df21['blockgroup'].astype(str)\n"
   ]
  },
  {
   "cell_type": "code",
   "execution_count": 16,
   "id": "5301e8d9",
   "metadata": {},
   "outputs": [],
   "source": [
    "df = pd.concat([df21, df22])\n",
    "df = df.drop_duplicates(subset = ['GEOID'])"
   ]
  },
  {
   "cell_type": "code",
   "execution_count": 20,
   "id": "d0caa007",
   "metadata": {},
   "outputs": [],
   "source": [
    "#make a couple new columns: percent with a degree, place code (equivalent to FIPS), percent households below poverty\n",
    "df['percent_degree']= (df['Bachelors']+df['Masters']+df['Professional']+df['Doctorate'])/df['Total__Population_25_and_over']\n",
    "\n",
    "df[\"Poverty\"] = df['PopinPoverty']/df['TotalPopforPoverty']\n",
    "df['Unemployed'] = df['Total_In_labor_force_Civilian_labor_force_Unemployed']/df['Total_In_labor_force']\n",
    "df['Food_assistance'] = df['Total_With_cash_public_assistance_income_or_households_receiving_Food_Stamps/SNAP_benefits_in_the_past_12_months']/(df['Total_With_cash_public_assistance_income_or_households_receiving_Food_Stamps/SNAP_benefits_in_the_past_12_months'] + df['Total_No_cash_public_assistance_income_or_household_Food_Stamps/SNAP_benefits_in_the_past_12_months'])\n",
    "\n",
    "\n",
    "#drop redundant columns \n",
    "df.drop(['Bachelors', 'Masters', 'Professional', 'Doctorate', 'PopinPoverty', 'TotalPopforPoverty', 'Total_In_labor_force', 'Total_In_labor_force_Civilian_labor_force_Unemployed', 'Total__Population_16_and_over', 'Total_Not_in_labor_force', 'Total_No_cash_public_assistance_income_or_household_Food_Stamps/SNAP_benefits_in_the_past_12_months', 'Total_With_cash_public_assistance_income_or_households_receiving_Food_Stamps/SNAP_benefits_in_the_past_12_months'], axis = 1, inplace = True)\n",
    "\n",
    "df.GEOID = df.GEOID.str.zfill(12)\n",
    "\n",
    "df.replace(-666666666, np.nan, inplace=True)\n",
    "df.replace(-999999999, np.nan, inplace=True)\n",
    "df.replace(-888888888, np.nan, inplace=True)\n",
    "df.to_csv('nosi2021census.csv')\n",
    "\n",
    "\n"
   ]
  },
  {
   "cell_type": "code",
   "execution_count": null,
   "id": "766d27fb",
   "metadata": {},
   "outputs": [],
   "source": []
  },
  {
   "cell_type": "markdown",
   "id": "2098b7d0",
   "metadata": {},
   "source": [
    "## Tract level"
   ]
  },
  {
   "cell_type": "code",
   "execution_count": 2,
   "id": "ed758c22",
   "metadata": {
    "scrolled": false
   },
   "outputs": [],
   "source": [
    "#tract level 2017\n",
    "year = 2017\n",
    "dsource = 'acs'\n",
    "dname = 'acs5'\n",
    "cols = 'B01003_001E,B19013_001E,B25031_001E,B27011_001E,B27011_002E,B28007_015E,B28007_009E,B19301_001E,B15003_001E,B15003_017E,B15003_018E,B15003_019E,B15003_020E,B15003_021E,B15003_022E,B15003_023E,B15003_024E,B15003_025E,B17008_001E,B19051_001E,B19051_002E,B19051_003E,B19055_002E,B19055_003E,B19056_001E,B19056_002E,B19057_002E,B19058_002E,B19113_001E,B02001_001E,B00001_001E,B02001_002E,B02001_003E,B02001_004E,B02001_005E,B02001_006E,B02001_007E,B02001_008E,B07012_001E,B07012_002E,B23018_001E,B19083_001E,B19058_003E'\n",
    "county = '*'\n",
    "state = '06'\n",
    "tract = '*'\n",
    "#list of geographies: https://api.census.gov/data/2022/acs/acs5/geography.html\n",
    "#2015 acs1 subject tables variables\n",
    "#https://api.census.gov/data/2015/acs/acs1/subject/variables\n",
    "dcode = '2,12'\n",
    "keyfile = 'apikey.txt'\n",
    "outfile = 'nosi-tract2017.txt'\n",
    "\n",
    "\n",
    "base_url = f'https://api.census.gov/data/{year}/{dsource}/{dname}'\n",
    "\n",
    "with open(keyfile) as key:\n",
    "    api_key = key.read().strip()\n",
    "    \n",
    "data_url = f'{base_url}?get={cols}&for=tract:{tract}&in=state:{state}&in=county:{county}&in=tract:*&key={api_key}'\n",
    "response = requests.get(data_url)\n",
    "popdata = response.json()\n",
    "\n",
    "with open(outfile, 'w', newline='') as writefile:\n",
    "    writer = csv.writer(writefile, quoting = csv.QUOTE_ALL, delimiter = ',')\n",
    "    writer.writerows(popdata)\n",
    "\n",
    "    \n",
    "#readin   \n",
    "tract17=pd.read_csv('nosi-tract2017.txt', converters={'state': str,'county': str, 'tract': str})\n"
   ]
  },
  {
   "cell_type": "code",
   "execution_count": 3,
   "id": "c407656b",
   "metadata": {
    "scrolled": false
   },
   "outputs": [
    {
     "data": {
      "text/plain": [
       "Index(['B01003_001E', 'B19013_001E', 'B25031_001E', 'B27011_001E',\n",
       "       'B27011_002E', 'B28007_015E', 'B28007_009E', 'B19301_001E',\n",
       "       'B15003_001E', 'B15003_017E', 'B15003_018E', 'B15003_019E',\n",
       "       'B15003_020E', 'B15003_021E', 'B15003_022E', 'B15003_023E',\n",
       "       'B15003_024E', 'B15003_025E', 'B17008_001E', 'B19051_001E',\n",
       "       'B19051_002E', 'B19051_003E', 'B19055_002E', 'B19055_003E',\n",
       "       'B19056_001E', 'B19056_002E', 'B19057_002E', 'B19058_002E',\n",
       "       'B19113_001E', 'B02001_001E', 'B00001_001E', 'B02001_002E',\n",
       "       'B02001_003E', 'B02001_004E', 'B02001_005E', 'B02001_006E',\n",
       "       'B02001_007E', 'B02001_008E', 'B07012_001E', 'B07012_002E',\n",
       "       'B23018_001E', 'B19083_001E', 'B19058_003E', 'state', 'county',\n",
       "       'tract'],\n",
       "      dtype='object')"
      ]
     },
     "execution_count": 3,
     "metadata": {},
     "output_type": "execute_result"
    }
   ],
   "source": [
    "tract17.columns"
   ]
  },
  {
   "cell_type": "code",
   "execution_count": 4,
   "id": "a616c961",
   "metadata": {},
   "outputs": [],
   "source": [
    "#rename columns\n",
    "colnames = ['Population','Median_household_income','Median_gross_rent','Total__Population_16_and_over','Total_In_labor_force','Total_Not_in_labor_force','Total_In_labor_force_Civilian_labor_force_Unemployed','Per_capita_income_in_the_past_12_months_(in_2021_inflation-adjusted_dollars)','Total__Population_25_and_over','Total_Regular_high_school_diploma','Total_GED_or_alternative_credential','Total_Some_college_less_than_1_year','Total_Some_college_1_or_more_years_no_degree','Associates','Bachelors','Masters','Professional','Doctorate','Aggregate_income_deficit_in_the_past_12_months','Total__Households','Total_With_earnings','Total_No_earnings','Total_With_Social_Security_income','Total_No_Social_Security_income','Total__Households','Total_With_Supplemental_Security_Income_(SSI)','Total_With_public_assistance_income','Total_With_cash_public_assistance_income_or_households_receiving_Food_Stamps/SNAP_benefits_in_the_past_12_months','Median_family_income_in_the_past_12_months_(in_2021_inflation-adjusted_dollars)','Total__Race','Total_Population','Total_White_alone','Total_Black_or_African_American_alone','Total_American_Indian_and_Alaska_Native_alone','Total_Asian_alone','Total_Native_Hawaiian_and_Other_Pacific_Islander_alone','Total_Some_other_race_alone','Total_Two_or_more_races','TotalPopforPoverty','PopinPoverty','Working_hours','Gini_index','Total_No_cash_public_assistance_income_or_household_Food_Stamps/SNAP_benefits_in_the_past_12_months','state','county','tract']\n",
    "tract17.columns = colnames\n",
    "tract17['GEOID']= tract17['state'].astype(str) + tract17['county'].astype(str) + tract17['tract'].astype(str)\n",
    "\n",
    "\n",
    "#make a couple new columns: percent with a degree, place code (equivalent to FIPS), percent households below poverty\n",
    "tract17['percent_degree']= (tract17['Bachelors']+tract17['Masters']+tract17['Professional']+tract17['Doctorate'])/tract17['Total__Population_25_and_over']\n",
    "\n",
    "tract17[\"Poverty\"] = tract17['PopinPoverty']/tract17['TotalPopforPoverty']\n",
    "tract17['Unemployed'] = tract17['Total_In_labor_force_Civilian_labor_force_Unemployed']/tract17['Total_In_labor_force']\n",
    "\n",
    "\n"
   ]
  },
  {
   "cell_type": "code",
   "execution_count": 5,
   "id": "0f3a707e",
   "metadata": {},
   "outputs": [],
   "source": [
    "tract17['assistance'] = tract17['Total_With_public_assistance_income']/(tract17['Total_With_cash_public_assistance_income_or_households_receiving_Food_Stamps/SNAP_benefits_in_the_past_12_months'] + tract17['Total_No_cash_public_assistance_income_or_household_Food_Stamps/SNAP_benefits_in_the_past_12_months'])\n",
    "\n",
    "\n",
    "#drop redundant columns \n",
    "tract17.drop(['Bachelors', 'Masters', 'Professional', 'Doctorate', 'PopinPoverty', 'TotalPopforPoverty', 'Total_In_labor_force', 'Total_In_labor_force_Civilian_labor_force_Unemployed', 'Total__Population_16_and_over', 'Total_Not_in_labor_force', 'Total_No_cash_public_assistance_income_or_household_Food_Stamps/SNAP_benefits_in_the_past_12_months', 'Total_With_cash_public_assistance_income_or_households_receiving_Food_Stamps/SNAP_benefits_in_the_past_12_months'], axis = 1, inplace = True)\n",
    "\n",
    "tract17.GEOID = tract17.GEOID.str.zfill(11)\n",
    "\n",
    "tract17.replace(-666666666, np.nan, inplace=True)\n",
    "tract17.replace(-999999999, np.nan, inplace=True)\n",
    "tract17.replace(-888888888, np.nan, inplace=True)\n",
    "tract17.to_csv('nosi2017census.csv')"
   ]
  },
  {
   "cell_type": "code",
   "execution_count": 6,
   "id": "6ddbc7d3",
   "metadata": {},
   "outputs": [
    {
     "data": {
      "text/plain": [
       "Index(['Population', 'Median_household_income', 'Median_gross_rent',\n",
       "       'Per_capita_income_in_the_past_12_months_(in_2021_inflation-adjusted_dollars)',\n",
       "       'Total__Population_25_and_over', 'Total_Regular_high_school_diploma',\n",
       "       'Total_GED_or_alternative_credential',\n",
       "       'Total_Some_college_less_than_1_year',\n",
       "       'Total_Some_college_1_or_more_years_no_degree', 'Associates',\n",
       "       'Aggregate_income_deficit_in_the_past_12_months', 'Total__Households',\n",
       "       'Total_With_earnings', 'Total_No_earnings',\n",
       "       'Total_With_Social_Security_income', 'Total_No_Social_Security_income',\n",
       "       'Total__Households', 'Total_With_Supplemental_Security_Income_(SSI)',\n",
       "       'Total_With_public_assistance_income',\n",
       "       'Median_family_income_in_the_past_12_months_(in_2021_inflation-adjusted_dollars)',\n",
       "       'Total__Race', 'Total_Population', 'Total_White_alone',\n",
       "       'Total_Black_or_African_American_alone',\n",
       "       'Total_American_Indian_and_Alaska_Native_alone', 'Total_Asian_alone',\n",
       "       'Total_Native_Hawaiian_and_Other_Pacific_Islander_alone',\n",
       "       'Total_Some_other_race_alone', 'Total_Two_or_more_races',\n",
       "       'Working_hours', 'Gini_index', 'state', 'county', 'tract', 'GEOID',\n",
       "       'percent_degree', 'Poverty', 'Unemployed', 'assistance'],\n",
       "      dtype='object')"
      ]
     },
     "execution_count": 6,
     "metadata": {},
     "output_type": "execute_result"
    }
   ],
   "source": [
    "tract17.columns"
   ]
  },
  {
   "cell_type": "code",
   "execution_count": null,
   "id": "583e461a",
   "metadata": {},
   "outputs": [],
   "source": []
  }
 ],
 "metadata": {
  "kernelspec": {
   "display_name": "Python 3 (ipykernel)",
   "language": "python",
   "name": "python3"
  },
  "language_info": {
   "codemirror_mode": {
    "name": "ipython",
    "version": 3
   },
   "file_extension": ".py",
   "mimetype": "text/x-python",
   "name": "python",
   "nbconvert_exporter": "python",
   "pygments_lexer": "ipython3",
   "version": "3.11.4"
  }
 },
 "nbformat": 4,
 "nbformat_minor": 5
}
